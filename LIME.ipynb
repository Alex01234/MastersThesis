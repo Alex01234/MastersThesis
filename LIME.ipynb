{
 "cells": [
  {
   "cell_type": "code",
   "execution_count": null,
   "metadata": {},
   "outputs": [],
   "source": [
    "# Authors: Alexander Dolk and Hjalmar Davidsen"
   ]
  },
  {
   "cell_type": "code",
   "execution_count": null,
   "metadata": {},
   "outputs": [],
   "source": [
    "import numpy as np\n",
    "import lime\n",
    "import torch\n",
    "import torch.nn.functional as F\n",
    "from lime.lime_text import LimeTextExplainer\n",
    "from transformers import AutoTokenizer, AutoModelForSequenceClassification"
   ]
  },
  {
   "cell_type": "code",
   "execution_count": null,
   "metadata": {
    "scrolled": false
   },
   "outputs": [],
   "source": [
    "tokenizer = AutoTokenizer.from_pretrained('<PATH TO TOKENIZER>', \n",
    "                                                   local_files_only=True,\n",
    "                                                   model_max_length=512,\n",
    "                                                   max_len=512,\n",
    "                                                   truncation=True,\n",
    "                                                   padding='Longest')\n",
    "model = AutoModelForSequenceClassification.from_pretrained('<PATH TO CLASSIFICATION MODEL>', local_files_only=True, problem_type=\"multi_label_classification\", num_labels=18)\n",
    "class_names = ['K567', 'K573', 'K358', 'K590', 'K800', 'K379', 'K802', 'K610', 'K566', 'K509', 'K859', 'K572', 'K353', 'K650', 'K922', 'K565', 'K210', 'K560']\n",
    "\n",
    "def predictor(texts):\n",
    "    outputs = model(**tokenizer(texts, return_tensors=\"pt\", padding=True))\n",
    "    tensor_logits = outputs[0]\n",
    "    probas = F.softmax(tensor_logits).detach().numpy()\n",
    "    return probas"
   ]
  },
  {
   "cell_type": "code",
   "execution_count": null,
   "metadata": {
    "scrolled": false
   },
   "outputs": [],
   "source": [
    "text = \"<DISCHARGE SUMMARY TO EXPLAIN>\"\n",
    "explainer = LimeTextExplainer(class_names=class_names)\n",
    "exp = explainer.explain_instance(text, predictor, num_features=10, num_samples=100, top_labels=18)\n",
    "exp.show_in_notebook(text=text)"
   ]
  }
 ],
 "metadata": {
  "kernelspec": {
   "display_name": "Python 3",
   "language": "python",
   "name": "python3"
  },
  "language_info": {
   "codemirror_mode": {
    "name": "ipython",
    "version": 3
   },
   "file_extension": ".py",
   "mimetype": "text/x-python",
   "name": "python",
   "nbconvert_exporter": "python",
   "pygments_lexer": "ipython3",
   "version": "3.8.5"
  }
 },
 "nbformat": 4,
 "nbformat_minor": 4
}
